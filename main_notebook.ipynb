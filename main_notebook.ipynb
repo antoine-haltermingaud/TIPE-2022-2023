{
 "cells": [
  {
   "cell_type": "markdown",
   "metadata": {},
   "source": [
    "# Valeur foncière moyenne\n",
    "\n"
   ]
  },
  {
   "cell_type": "code",
   "execution_count": 22,
   "metadata": {},
   "outputs": [],
   "source": [
    "#import all the libraries needed\n",
    "import statistics\n",
    "import requests \n",
    "import json\n",
    "import math"
   ]
  },
  {
   "cell_type": "code",
   "execution_count": 23,
   "metadata": {},
   "outputs": [],
   "source": [
    "rayon = 50\n",
    "lat = 48.85 #latitude\n",
    "lon = 2.35 #longitude\n",
    "\n",
    "def valeur_fonciere_au_m2(rayon, lat, lon):\n",
    "\n",
    "    params = {\"format\": \"json\"}\n",
    "    response = requests.get(f\"https://api.cquest.org/dvf?lat={lat}&lon={lon}&dist={rayon}\", params=params)\n",
    "\n",
    "    def jprint(obj):\n",
    "        # create a formatted string of the Python JSON object\n",
    "        text = json.dumps(obj, indent=4)\n",
    "        print(text)\n",
    "\n",
    "    valeur_fonciere_moyenne = [] # tableau où on stocke les valeurs foncières se trouvant dans le périmètre choisi\n",
    "\n",
    "    valeur_api = response.json() #la valeur foncière que l'on cherche avec l'API\n",
    "\n",
    "    for i in range(len(valeur_api[\"features\"])): \n",
    "        surface = (valeur_api[\"features\"][i][\"properties\"][\"surface_relle_bati\"]) #on cherche la surface du logement\n",
    "        if surface != 0 :\n",
    "            prix = (valeur_api[\"features\"][i][\"properties\"][\"valeur_fonciere\"]) #on cherche la valeur foncière\n",
    "            prix_au_m2 = prix/surface\n",
    "            valeur_fonciere_moyenne.append(prix_au_m2)\n",
    "\n",
    "    return round(statistics.mean(valeur_fonciere_moyenne))"
   ]
  },
  {
   "cell_type": "code",
   "execution_count": 24,
   "metadata": {},
   "outputs": [
    {
     "name": "stdout",
     "output_type": "stream",
     "text": [
      "La valeur foncière moyenne sur un rayon de 50m est de 10412 euros par m2.\n",
      "\n"
     ]
    }
   ],
   "source": [
    "print(f\"La valeur foncière moyenne sur un rayon de {rayon}m est de {valeur_fonciere_au_m2(rayon, lat, lon)} euros par m2.\\n\")"
   ]
  },
  {
   "cell_type": "markdown",
   "metadata": {},
   "source": [
    "# Schéma des lieux de stationnement \n"
   ]
  },
  {
   "cell_type": "code",
   "execution_count": 25,
   "metadata": {},
   "outputs": [],
   "source": [
    "from csv import DictReader\n",
    "\n",
    "def prix_parking(long,lat):\n",
    "    # reading csv file\n",
    "    with open('bnls.csv', 'r') as read_obj:\n",
    "        csv_dict_reader = DictReader(read_obj)\n",
    "\n",
    "        # get column names from a csv file\n",
    "        # column_names = csv_dict_reader.fieldnames\n",
    "        # print(column_names )\n",
    "\n",
    "        distanceX = 6.2366534 - long \n",
    "        distanceY = 44.0932836 - lat\n",
    "        distance_carree = distanceX**2 + distanceY**2\n",
    "        distanceActu = 0\n",
    "        n = 0\n",
    "        indice = 0\n",
    "\n",
    "        #calcule les coordonnées\n",
    "\n",
    "        test = []\n",
    "\n",
    "        for row in csv_dict_reader:\n",
    "            test.append(list(row.values()))\n",
    "            if float(row['Xlong']) == long and float(row['Ylat']) == lat :\n",
    "                return row['Xlong'] , row['Ylat'] , row['tarif_1h']\n",
    "            else:\n",
    "                distanceX = float(row['Xlong']) - long \n",
    "                distanceY = float(row['Ylat']) - lat \n",
    "                distanceActu = distanceX**2 + distanceY**2\n",
    "                if distanceActu < distance_carree :\n",
    "                    distance_carree = distanceActu\n",
    "                    indice = n\n",
    "            n += 1\n",
    "        \n",
    "        return (test[indice][21],test[indice][19],test[indice][18])"
   ]
  },
  {
   "cell_type": "code",
   "execution_count": 26,
   "metadata": {},
   "outputs": [
    {
     "name": "stdout",
     "output_type": "stream",
     "text": [
      "('1.20', '45.832243', '1.266731')\n",
      "Avec un taux de rentabilité brut de 5.2% et un logement de 24m², le loyer est : 1041 euros/mois\n"
     ]
    }
   ],
   "source": [
    "print(prix_parking(2.444997, 44.930953))\n",
    "\n",
    "surface_loyer = 24 \n",
    "\n",
    "print(f\"Avec un taux de rentabilité brut de 5.2% et un logement de {surface_loyer}m², le loyer est : { round(surface_loyer*0.05*valeur_fonciere_au_m2(rayon, lat, lon)/12)} euros/mois\")"
   ]
  },
  {
   "cell_type": "markdown",
   "metadata": {},
   "source": [
    "#  Coûts de construction"
   ]
  },
  {
   "cell_type": "code",
   "execution_count": 27,
   "metadata": {},
   "outputs": [],
   "source": [
    "def cout_construction_immeuble1(surface, lon, lat): #CELUI PAS TRES FIABLE\n",
    "    assert(surface >= 0)\n",
    "    surface += surface/10 #surface totale = surface logement + partie commune ≈ 10%\n",
    "    prix_loyer = valeur_fonciere_au_m2(20, lon, lat)*surface #rayon de 20m pour le calcul de valeur_fonciere_au_m2\n",
    "    prix_etudes_de_sol = prix_loyer*0.02\n",
    "    prix_controles_techniques = prix_loyer*0.03\n",
    "    prix_honoraires_architectes = prix_loyer*0.08\n",
    "    return round(prix_loyer + prix_etudes_de_sol + prix_controles_techniques + prix_honoraires_architectes)"
   ]
  },
  {
   "cell_type": "code",
   "execution_count": 28,
   "metadata": {},
   "outputs": [
    {
     "name": "stdout",
     "output_type": "stream",
     "text": [
      "Le prix de construction d'un immeuble est 2872697\n"
     ]
    }
   ],
   "source": [
    "surface_immeuble = 220\n",
    "\n",
    "print(f\"Le prix de construction d'un immeuble est {cout_construction_immeuble1(surface_immeuble, lat, lon)} euros\")"
   ]
  }
 ],
 "metadata": {
  "kernelspec": {
   "display_name": "Python 3.10.7 64-bit (microsoft store)",
   "language": "python",
   "name": "python3"
  },
  "language_info": {
   "codemirror_mode": {
    "name": "ipython",
    "version": 3
   },
   "file_extension": ".py",
   "mimetype": "text/x-python",
   "name": "python",
   "nbconvert_exporter": "python",
   "pygments_lexer": "ipython3",
   "version": "3.10.7"
  },
  "orig_nbformat": 4,
  "vscode": {
   "interpreter": {
    "hash": "4e87ed7f3962434517c25eb050070d235fd9b8942ce30e13884a6950b582033b"
   }
  }
 },
 "nbformat": 4,
 "nbformat_minor": 2
}
