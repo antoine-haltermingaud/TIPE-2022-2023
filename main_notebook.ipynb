{
 "cells": [
  {
   "attachments": {},
   "cell_type": "markdown",
   "metadata": {},
   "source": [
    "# Valeur foncière moyenne\n",
    "\n"
   ]
  },
  {
   "cell_type": "code",
   "execution_count": 4,
   "metadata": {},
   "outputs": [],
   "source": [
    "#import all the libraries needed\n",
    "import statistics\n",
    "import requests \n",
    "import json\n",
    "import math"
   ]
  },
  {
   "cell_type": "code",
   "execution_count": 1,
   "metadata": {},
   "outputs": [],
   "source": [
    "rayon = 50\n",
    "lat = 48.85 #latitude\n",
    "lon = 2.35 #longitude\n",
    "\n",
    "def valeur_fonciere_au_m2(rayon, lat, lon):\n",
    "\n",
    "    params = {\"format\": \"json\"}\n",
    "    response = requests.get(f\"https://api.cquest.org/dvf?lat={lat}&lon={lon}&dist={rayon}\", params=params) #requête de l'API\n",
    "\n",
    "    def jprint(obj):\n",
    "        # création d'un string à partir de l'objet JSON\n",
    "        text = json.dumps(obj, indent=4)\n",
    "        print(text)\n",
    "\n",
    "    valeur_fonciere_moyenne = [] # tableau où on stocke les valeurs foncières se trouvant dans le périmètre choisi\n",
    "\n",
    "    valeur_api = response.json() #la valeur foncière que l'on cherche avec l'API\n",
    "\n",
    "    for i in range(len(valeur_api[\"features\"])): \n",
    "        surface = (valeur_api[\"features\"][i][\"properties\"][\"surface_relle_bati\"]) #Recherche de surface du logement\n",
    "        if surface != 0 :\n",
    "            prix = (valeur_api[\"features\"][i][\"properties\"][\"valeur_fonciere\"]) #Recherche de la valeur foncière\n",
    "            prix_au_m2 = prix/surface\n",
    "            valeur_fonciere_moyenne.append(prix_au_m2)\n",
    "\n",
    "    return round(statistics.mean(valeur_fonciere_moyenne))"
   ]
  },
  {
   "cell_type": "code",
   "execution_count": 3,
   "metadata": {},
   "outputs": [],
   "source": [
    "#print(f\"La valeur foncière moyenne sur un rayon de {rayon}m est de {valeur_fonciere_au_m2(rayon, lat, lon)} euros par m2.\\n\")"
   ]
  },
  {
   "attachments": {},
   "cell_type": "markdown",
   "metadata": {},
   "source": [
    "#  Coûts de construction"
   ]
  },
  {
   "cell_type": "code",
   "execution_count": null,
   "metadata": {},
   "outputs": [],
   "source": []
  },
  {
   "attachments": {},
   "cell_type": "markdown",
   "metadata": {},
   "source": [
    "## Estimation peu fiable"
   ]
  },
  {
   "cell_type": "code",
   "execution_count": 4,
   "metadata": {},
   "outputs": [],
   "source": [
    "def cout_construction_immeuble1(surface, lon, lat): \n",
    "    assert(surface >= 0)\n",
    "\n",
    "    surface += surface/10 #surface totale = surface logement + partie commune ≈ 10%\n",
    "\n",
    "    prix_loyer = valeur_fonciere_au_m2(20, lon, lat)*surface #Exemple rayon de 20m pour le calcul de valeur_fonciere_au_m2\n",
    "    \n",
    "    prix_etudes_de_sol = prix_loyer*0.02\n",
    "    prix_controles_techniques = prix_loyer*0.03\n",
    "    prix_honoraires_architectes = prix_loyer*0.08\n",
    "    return round(prix_loyer + prix_etudes_de_sol + prix_controles_techniques + prix_honoraires_architectes)"
   ]
  },
  {
   "attachments": {},
   "cell_type": "markdown",
   "metadata": {},
   "source": [
    "## Estimation plus fiable "
   ]
  },
  {
   "attachments": {},
   "cell_type": "markdown",
   "metadata": {},
   "source": [
    "# Coûts de destruction \n"
   ]
  },
  {
   "cell_type": "code",
   "execution_count": 14,
   "metadata": {},
   "outputs": [],
   "source": [
    "def calculer_cout_demolition(surface, nombre_etages, indice_complexite, indice_etat): #les indices sont entre 1-3\n",
    "    # Coûts initiaux par unité de surface\n",
    "    cout_par_metre_carre = 100  # Coût de base par mètre carré\n",
    "    \n",
    "    # Facteurs multiplicateurs en fonction de la complexité et de l'état du bâtiment\n",
    "    facteur_complexite = [1, 1.2, 1.5]  # Indice de complexité (1-3)\n",
    "    facteur_etat = [1, 1.1, 1.3]  # Indice d'état (1-3)\n",
    "    \n",
    "    # Calcul des coûts de base\n",
    "    cout_base = surface * cout_par_metre_carre\n",
    "    \n",
    "    # Calcul des coûts en fonction de la complexité et de l'état du bâtiment\n",
    "    cout_total = cout_base * facteur_complexite[indice_complexite-1] * facteur_etat[indice_etat-1]\n",
    "    \n",
    "    # Coûts supplémentaires en fonction du nombre d'étages\n",
    "    cout_supplementaire_etages = 5000 * nombre_etages\n",
    "    \n",
    "    # Ajout des coûts supplémentaires\n",
    "    cout_total += cout_supplementaire_etages\n",
    "    \n",
    "    return round(cout_total)\n"
   ]
  },
  {
   "cell_type": "code",
   "execution_count": 22,
   "metadata": {},
   "outputs": [
    {
     "name": "stdout",
     "output_type": "stream",
     "text": [
      "Le coût de démolition du bâtiment est de 32080 euros.\n"
     ]
    }
   ],
   "source": [
    "# Demande des informations à l'utilisateur\n",
    "\n",
    "surface = 200     #surface du bâtiment cumulée  (en mètres carrés)\n",
    "nombre_etages = 2      # nombre d'étages du bâtiment)\n",
    "indice_complexite = 2  #indice de complexité du bâtiment (de indice_standing à 3)\n",
    "indice_etat = 1        #indice de l'état du bâtiment (de indice_standing à 3)\n",
    "\n",
    "# Appel de la fonction pour calculer les coûts de démolition\n",
    "cout_demolition = calculer_cout_demolition(surface, nombre_etages, indice_complexite, indice_etat)\n",
    "\n",
    "# Affichage du résultat\n",
    "print(\"Le coût de démolition du bâtiment est de\", cout_demolition, \"euros.\")"
   ]
  },
  {
   "attachments": {},
   "cell_type": "markdown",
   "metadata": {},
   "source": [
    "# Coûts de réhabilitation "
   ]
  },
  {
   "cell_type": "code",
   "execution_count": 9,
   "metadata": {},
   "outputs": [],
   "source": [
    "# Problèmes de construction\n",
    "geotechnical_investigation_prices = {\n",
    "    \"étude topographique\": 2.16,  # € par mètre carré\n",
    "    \"rapport ingénieur\": 2100  # € par jour \n",
    "}\n",
    "\n",
    "demolition_prices = {\n",
    "    \"lavabo\": 51,  # € chacun\n",
    "    \"baignoire\": 82,  # € chacune\n",
    "    \"douche\": 137,  # € chacune\n",
    "    \"lampe incandescente\": 17,  # € chacune\n",
    "    \"lave-vaisselle\": 31,  # € chacun\n",
    "    \"porte\": 55,  # € chacune\n",
    "    \"fenêtre\": 56,  # € chacune\n",
    "    \"poutre\": 16.40,  # € par mètre linéaire\n",
    "    \"cloison en plâtre\": 4.95,  # € par mètre carré\n",
    "    \"charpente\": 11.08,  # € par mètre linéaire\n",
    "    \"tuiles\": 15.50,  # € par mètre carré\n",
    "    \"murs\": 43.92,  # € par mètre carré\n",
    "    \"murs porteurs\": 174.04,  # € par mètre carré\n",
    "    \"sol en béton\": 48.70,  # € par mètre carré\n",
    "    \"location camion hydraulique 12T\": 1400  # € par jour\n",
    "}\n",
    "\n",
    "# Dégats des eaux\n",
    "mold_prices = {\n",
    "    \"inspection de la zone\": 481,  # €\n",
    "    \"réduction de la moisissure\": 1923,  # €\n",
    "    \"enlèvement de zones contaminées par la moisissure\": 18132  # €\n",
    "}\n",
    "\n",
    "mold_demolition_prices = {\n",
    "    \"sol\": 3.29,  # € par pied carré (10.79 € par mètre carré)\n",
    "    \"plafond\": 2.17  # € par pied carré (7.12 € par mètre carré)\n",
    "}\n",
    "\n",
    "# Problèmes électriques\n",
    "electrical_replacement_prices = {\n",
    "    \"remplacement du panneau électrique\": (879, 2747.25),  # €\n",
    "    \"réparation ou remplacement des fils et des câbles\": (546, 1638),  # €\n",
    "    \"installation de nouveaux circuits électriques\": (546, 1638),  # €\n",
    "    \"installation de systèmes d'éclairage\": (227, 1137)  # € par pièce\n",
    "}\n",
    "\n",
    "electrical_upgrade_prices = {\n",
    "    \"mise à niveau des prises de courant et des interrupteurs\": (72.50, 108.75),  # € par prise ou interrupteur\n",
    "    \"mise à jour des systèmes de sécurité\": (546, 2185)  # €\n",
    "}\n",
    "\n",
    "# Problèmes de plomberie\n",
    "bathroom_prices = {\n",
    "    \"lavabo\": 60.06,  # €\n",
    "    \"baignoire/douche\": 150.15,  # €\n",
    "    \"toilette standard\": 200,  # €\n",
    "    \"toilette haut de gamme\": 600,  # €\n",
    "    \"robinet de douche\": (60, 120),  # €\n",
    "    \"robinet de lavabo\": (30, 100)  # €\n",
    "}\n",
    "\n",
    "plumbing_repair_prices = {\n",
    "    \"réparation d'une fuite mineure\": (150, 250),  # €\n",
    "    \"réparation d'une fuite importante\": (250, 550),  # €\n",
    "    \"remplacement d'un tuyau\": (100, 200),  # €\n",
    "    \"remplacement d'un robinet\": (100, 250),  # €\n",
    "    \"débouchage d'un évier\": (100, 200),  # €\n",
    "    \"remplacement d'un évier\": (200, 500)  # €\n",
    "}\n",
    "\n",
    "# Problème de chauffage, ventilation, climatisation\n",
    "hvac_maintenance_prices = {\n",
    "    \"entretien annuel d'une chaudière\": (120, 200),  # €\n",
    "    \"entretien du système électronique\": 74.62,  # €\n",
    "    \"entretien d'une pompe à chaleur\": (100, 300),  # €\n",
    "    \"nettoyage des conduits de ventilation\": (200, 500)  # €\n",
    "}\n",
    "\n",
    "hvac_replacement_repair_prices = {\n",
    "    \"ventilation + conduits\": 546,  # €\n",
    "    \"chaudière standard\": (1500, 3000),  # €\n",
    "    \"chaudière haut de gamme\": (4000, 7000),  # €\n",
    "    \"installation d'un nouveau système de chauffage (pompe à chaleur)\": (5000, 12000),  # €\n",
    "    \"réparation ou remplacement de la climatisation\": (1000, 5000),  # €\n",
    "    \"installation d'un système de ventilation mécanique contrôlée (VMC)\": (1000, 4000),  # €\n",
    "    \"installation d'un système de climatisation centralisée\": (3000, 8000)  # €\n",
    "}\n",
    "\n",
    "# Problème d'isolation\n",
    "insulation_prices = {\n",
    "    \"isolation des combles\": (20, 80),  # € par mètre carré\n",
    "    \"isolation des murs\": (50, 150),  # € par mètre carré\n",
    "    \"isolation des planchers\": (30, 80),  # € par mètre carré\n",
    "    \"installation de fenêtres isolantes\": (300, 1000),  # € par fenêtre\n",
    "    \"isolation des portes\": (50, 500)  # € par porte\n",
    "}\n",
    "\n",
    "# Présence de nuisibles\n",
    "pest_control_prices = {\n",
    "    \"élimination de souris et de rats\": (150, 500),  # €\n",
    "    \"élimination de punaises de lit\": (200, 1000),  # €\n",
    "    \"élimination des guêpes et des nids de frelons\": (60, 250),  # €\n",
    "    \"élimination des fourmis\": (70, 200)  # €\n",
    "}\n",
    "\n",
    "pest_damage_repair_prices = {\n",
    "    \"réparation des dommages causés par les rongeurs\": (150, 500),  # €\n",
    "    \"réparation des dommages causés par les insectes\": (200, 1000),  # €\n",
    "    \"nettoyage et désinfection de la zone touchée\": (50, 100)  # € par mètre carré\n",
    "}\n",
    "\n",
    "# Problèmes d'humidité\n",
    "humidity_detection_treatment_prices = {\n",
    "\"diagnostic de l'humidité\": (80, 150), # €\n",
    "\"traitement de l'humidité par injection\": (100, 150), # € par mètre linéaire\n",
    "\"traitement de l'humidité par ventilation\": (1500, 5000), # €\n",
    "\"traitement de l'humidité par drainage\": (1000, 5000) # €\n",
    "}\n",
    "\n",
    "#Problèmes de toiture\n",
    "roof_repair_prices = {\n",
    "\"remplacement de tuiles\": (2, 4), # € par tuile\n",
    "\"réparation de fuite\": (200, 400), # €\n",
    "\"remplacement du revêtement de toit\": (40, 100), # € par mètre carré\n",
    "\"nettoyage de la toiture\": (200, 500) # €\n",
    "}\n",
    "\n",
    "roof_replacement_prices = {\n",
    "\"toiture en tuiles\": (60, 150), # € par mètre carré\n",
    "\"toiture en ardoise\": (80, 250), # € par mètre carré\n",
    "\"toiture en zinc\": (120, 200), # € par mètre carré\n",
    "\"toiture en bac acier\": (30, 100) # € par mètre carré\n",
    "}\n",
    "\n",
    "#Problèmes de fondation\n",
    "foundation_repair_prices = {\n",
    "\"réparation de fissures - injection de résine époxy\": (100, 300), # € par fissure\n",
    "\"ancrage de la fondation\": (2000, 5000) # €\n",
    "}\n",
    "\n",
    "foundation_settlement_repair_prices = {\n",
    "\"injection de mousse polyuréthane\": (1000, 3000), # €\n",
    "\"remplacement des pieux\": (3000, 7000) # €\n",
    "}\n",
    "\n",
    "foundation_wall_repair_prices = {\n",
    "\"rénovation de mur en blocs de béton\": (100, 150), # € par mètre carré\n",
    "\"réparation de murs de fondation en briques\": (100, 250), # € par mètre carré\n",
    "\"rénovation de mur en béton coulé\": (300, 500) # € par mètre carré\n",
    "}\n"
   ]
  }
 ],
 "metadata": {
  "kernelspec": {
   "display_name": "Python 3.10.7 64-bit (microsoft store)",
   "language": "python",
   "name": "python3"
  },
  "language_info": {
   "codemirror_mode": {
    "name": "ipython",
    "version": 3
   },
   "file_extension": ".py",
   "mimetype": "text/x-python",
   "name": "python",
   "nbconvert_exporter": "python",
   "pygments_lexer": "ipython3",
   "version": "3.10.11"
  },
  "orig_nbformat": 4,
  "vscode": {
   "interpreter": {
    "hash": "4e87ed7f3962434517c25eb050070d235fd9b8942ce30e13884a6950b582033b"
   }
  }
 },
 "nbformat": 4,
 "nbformat_minor": 2
}
